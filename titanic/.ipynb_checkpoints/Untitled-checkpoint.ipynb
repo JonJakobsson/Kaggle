{
 "cells": [
  {
   "cell_type": "code",
   "execution_count": 1,
   "metadata": {
    "collapsed": false
   },
   "outputs": [],
   "source": [
    "import pandas as pd\n",
    "import numpy as np\n",
    "import scipy as sp\n",
    "import matplotlib.pyplot as plt\n",
    "plt.style.use('seaborn-notebook')\n",
    "# Find more styles here\n",
    "# plt.style.available"
   ]
  },
  {
   "cell_type": "code",
   "execution_count": 2,
   "metadata": {
    "collapsed": false
   },
   "outputs": [],
   "source": [
    "train = pd.read_csv(\"train.csv\", header = 0 , index_col=0)\n"
   ]
  },
  {
   "cell_type": "code",
   "execution_count": 3,
   "metadata": {
    "collapsed": false
   },
   "outputs": [
    {
     "name": "stdout",
     "output_type": "stream",
     "text": [
      "<class 'pandas.core.frame.DataFrame'>\n",
      "Int64Index: 891 entries, 1 to 891\n",
      "Data columns (total 16 columns):\n",
      "Survived       891 non-null int64\n",
      "Pclass         891 non-null int64\n",
      "Name           891 non-null object\n",
      "Sex            891 non-null object\n",
      "Age            891 non-null float64\n",
      "SibSp          891 non-null int64\n",
      "Parch          891 non-null int64\n",
      "Ticket         891 non-null object\n",
      "Fare           891 non-null float64\n",
      "Cabin          204 non-null object\n",
      "Embarked       889 non-null object\n",
      "Gender         891 non-null int64\n",
      "Got on         891 non-null float64\n",
      "Family_size    891 non-null int64\n",
      "Pred_age       891 non-null float64\n",
      "Pred_fare      891 non-null float64\n",
      "dtypes: float64(5), int64(6), object(5)\n",
      "memory usage: 118.3+ KB\n"
     ]
    }
   ],
   "source": [
    "#Adding new variables\n",
    "train[\"Gender\"] = train[\"Sex\"].map({\"female\" : 0, \"male\" : 1})\n",
    "train[\"Got on\"] = train[\"Embarked\"].map({\"C\" : 0, \"Q\" : 1, \"S\" : 2})\n",
    "train[\"Family_size\"] = train[\"Parch\"] + train[\"SibSp\"]\n",
    "\n",
    "#add age to NaN values based on Pclass and Gender\n",
    "X_age = train[[\"Pclass\", \"Gender\"]][train[\"Age\"] > 0]\n",
    "Y_age = train[\"Age\"][train[\"Age\"] > 0]\n",
    "X_age.head()\n",
    "from sklearn import linear_model\n",
    "reg = linear_model.Lasso(alpha = 0.1)\n",
    "reg = reg.fit(X_age, Y_age)\n",
    "new_age = train[[\"Pclass\", \"Gender\"]]\n",
    "train[\"Pred_age\"] = reg.predict(new_age)\n",
    "\n",
    "train[\"Age\"] = train[\"Age\"].fillna(train[\"Pred_age\"])\n",
    "\n",
    "X_fare = train[[\"Pclass\", \"Gender\", \"Age\"]][train[\"Fare\"] > 0]\n",
    "Y_fare = train[\"Fare\"][train[\"Fare\"] > 0]\n",
    "\n",
    "from sklearn import linear_model\n",
    "reg = linear_model.Lasso(alpha = 0.1)\n",
    "reg = reg.fit(X_fare, Y_fare)\n",
    "new_fare = train[[\"Pclass\", \"Gender\", \"Age\"]]\n",
    "train[\"Pred_fare\"] = reg.predict(new_fare)\n",
    "\n",
    "train[\"Fare\"] = train[\"Fare\"].fillna(train[\"Pred_fare\"])\n",
    "\n",
    "\n",
    "#fills Got on NaN to 0\n",
    "train[\"Got on\"] = train[\"Got on\"].fillna(0)\n",
    "\n",
    "train.info()"
   ]
  },
  {
   "cell_type": "code",
   "execution_count": null,
   "metadata": {
    "collapsed": false
   },
   "outputs": [],
   "source": [
    "%matplotlib inline\n",
    "import seaborn as sns\n",
    "sns.set(style=\"whitegrid\", palette=\"pastel\", color_codes=True)\n",
    "\n",
    "# Draw a nested violinplot and split the violins for easier comparison\n",
    "sns.violinplot(x=\"Pclass\", y=\"Age\", hue=\"Sex\", data=train, split=True,\n",
    "               inner=\"quart\", palette={\"male\": \"b\", \"female\": \"y\"})\n",
    "sns.despine(left=True)\n"
   ]
  },
  {
   "cell_type": "code",
   "execution_count": null,
   "metadata": {
    "collapsed": false
   },
   "outputs": [],
   "source": [
    "sns.violinplot(x=\"Pclass\", y=\"Fare\", hue=\"Survived\", data=train, split=True,\n",
    "               inner=\"quart\", palette={1: \"g\", 0: \"r\"})\n",
    "sns.despine(left=True)"
   ]
  },
  {
   "cell_type": "code",
   "execution_count": null,
   "metadata": {
    "collapsed": false,
    "scrolled": false
   },
   "outputs": [],
   "source": [
    "sns.factorplot(x=\"Pclass\", y=\"Survived\", hue=\"Sex\", data=train,\n",
    "                   size=6, kind=\"bar\", palette=\"muted\")\n",
    "sns.despine(left = True)"
   ]
  },
  {
   "cell_type": "code",
   "execution_count": null,
   "metadata": {
    "collapsed": false
   },
   "outputs": [],
   "source": [
    "sns.factorplot(x=\"Family_size\", y=\"Survived\", data=train,\n",
    "                   size=6, kind=\"bar\", palette=\"muted\")"
   ]
  },
  {
   "cell_type": "code",
   "execution_count": null,
   "metadata": {
    "collapsed": false
   },
   "outputs": [],
   "source": [
    "test = pd.read_csv(\"test.csv\", header = 0 , index_col=0)\n",
    "#Adding new variables\n",
    "test[\"Gender\"] = test[\"Sex\"].map({\"female\" : 0, \"male\" : 1})\n",
    "test[\"Got on\"] = test[\"Embarked\"].map({\"C\" : 0, \"Q\" : 1, \"S\" : 2})\n",
    "test[\"Family_size\"] = test[\"Parch\"] + test[\"SibSp\"]\n",
    "\n",
    "#add age to NaN values based on Pclass and Gender\n",
    "X_age = test[[\"Pclass\", \"Gender\"]][test[\"Age\"] > 0]\n",
    "Y_age = test[\"Age\"][test[\"Age\"] > 0]\n",
    "X_age.head()\n",
    "from sklearn import linear_model\n",
    "reg = linear_model.Lasso(alpha = 0.1)\n",
    "reg = reg.fit(X_age, Y_age)\n",
    "new_age = test[[\"Pclass\", \"Gender\"]]\n",
    "test[\"Pred_age\"] = reg.predict(new_age)\n",
    "\n",
    "test[\"Age\"] = test[\"Age\"].fillna(test[\"Pred_age\"])\n",
    "\n",
    "X_fare = test[[\"Pclass\", \"Gender\", \"Age\"]][test[\"Fare\"] > 0]\n",
    "Y_fare = test[\"Fare\"][test[\"Fare\"] > 0]\n",
    "X_fare.head()\n",
    "from sklearn import linear_model\n",
    "reg = linear_model.Lasso(alpha = 0.1)\n",
    "reg = reg.fit(X_fare, Y_fare)\n",
    "new_fare = test[[\"Pclass\", \"Gender\", \"Age\"]]\n",
    "test[\"Pred_fare\"] = reg.predict(new_fare)\n",
    "\n",
    "test[\"Fare\"] = test[\"Fare\"].fillna(test[\"Pred_fare\"])\n",
    "\n",
    "#fills Got on NaN to 0\n",
    "test[\"Got on\"] = test[\"Got on\"].fillna(0)\n",
    "test.info()"
   ]
  },
  {
   "cell_type": "code",
   "execution_count": null,
   "metadata": {
    "collapsed": false
   },
   "outputs": [],
   "source": [
    "train[Target].head()"
   ]
  },
  {
   "cell_type": "code",
   "execution_count": 4,
   "metadata": {
    "collapsed": false
   },
   "outputs": [
    {
     "name": "stdout",
     "output_type": "stream",
     "text": [
      "0.751964085297\n",
      "{'C': 8, 'kernel': 'rbf', 'gamma': 0.01}\n"
     ]
    }
   ],
   "source": [
    "\n",
    "#Sets what features to use in the estimators\n",
    "Features = train[[\"Pclass\", \"Gender\", \"Age\",\"Fare\", \"Family_size\", \"Got on\"]]\n",
    "#Features = train[[\"Pclass\", \"Gender\", \"Age\"]]\n",
    "Target = train[\"Survived\"]\n",
    "\n",
    "\n",
    "\n",
    "from sklearn import svm\n",
    "from sklearn.model_selection import GridSearchCV\n",
    "\n",
    "#Instanciates an estimator\n",
    "clf = svm.SVC()\n",
    "\n",
    "#Makes the param grid\n",
    "C = [1, 2, 4, 8]\n",
    "kernel = [\"rbf\"]\n",
    "gamma = [0.1, 0.01, 0.001]\n",
    "param_grid = dict(C = C, kernel = kernel, gamma = gamma)\n",
    "\n",
    "#instantiate the crossvalidation search\n",
    "grid = GridSearchCV(clf, param_grid= param_grid, cv = 8, scoring = \"accuracy\", n_jobs=-1)\n",
    "\n",
    "#Runs the crossvalitation on the data\n",
    "grid.fit(Features, Target)\n",
    "\n",
    "#Prints relevent information of the best estimator found\n",
    "print(grid.best_score_)\n",
    "print(grid.best_params_)"
   ]
  },
  {
   "cell_type": "code",
   "execution_count": null,
   "metadata": {
    "collapsed": false
   },
   "outputs": [],
   "source": [
    "\n",
    "#Runs the prediction\n",
    "X_survived = train[[\"Pclass\", \"Gender\", \"Age\", \"Fare\", \"Family_size\", \"Got on\"]]\n",
    "Y_survived = train[\"Survived\"]\n",
    "\n",
    "from sklearn.ensemble import RandomForestClassifier\n",
    "clf = RandomForestClassifier(n_estimators= 10)\n",
    "clf = clf.fit(X_survived, Y_survived)\n",
    "\n",
    "test_features = test[[\"Pclass\", \"Gender\", \"Age\", \"Fare\", \"Family_size\", \"Got on\"]]\n",
    "\n",
    "test[\"Survived\"] = clf.predict(test_features)\n",
    "test.head()\n",
    "\n",
    "#Saves to csv that works for Kaggle\n",
    "prediction = test[\"Survived\"]\n",
    "prediction.to_csv( \"prediction.csv\", index_label=\"PassengerId\", index = True, header = True)\n"
   ]
  },
  {
   "cell_type": "code",
   "execution_count": null,
   "metadata": {
    "collapsed": false
   },
   "outputs": [],
   "source": [
    "import numpy as np\n",
    "from sklearn.model_selection import RandomizedSearchCV\n",
    "clf = svm.SVC()\n",
    "\n",
    "C_range = np.logspace(-2, 10, 13)\n",
    "gamma_range = np.logspace(-9, 3, 13)\n",
    "param_grid = dict(gamma=gamma_range, C=C_range)\n",
    "\n",
    "grid = RandomizedSearchCV(clf, param_distributions=param_grid, cv = 5, n_iter=10, scoring = \"accuracy\", n_jobs = -1)\n",
    "\n",
    "grid.fit(Features, Target)\n",
    "\n",
    "print(grid.best_score_)\n",
    "print(grid.best_params_)"
   ]
  }
 ],
 "metadata": {
  "anaconda-cloud": {},
  "kernelspec": {
   "display_name": "Python [default]",
   "language": "python",
   "name": "python3"
  },
  "language_info": {
   "codemirror_mode": {
    "name": "ipython",
    "version": 3
   },
   "file_extension": ".py",
   "mimetype": "text/x-python",
   "name": "python",
   "nbconvert_exporter": "python",
   "pygments_lexer": "ipython3",
   "version": "3.5.2"
  }
 },
 "nbformat": 4,
 "nbformat_minor": 1
}
